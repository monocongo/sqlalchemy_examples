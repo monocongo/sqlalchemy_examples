{
 "cells": [
  {
   "cell_type": "markdown",
   "metadata": {},
   "source": [
    "# SQLAlchemy Example\n",
    "An example of object-relational mapping (ORM) using SQLAlchemy."
   ]
  },
  {
   "cell_type": "markdown",
   "metadata": {},
   "source": [
    "#### Import packages and modules used in subsequent cells."
   ]
  },
  {
   "cell_type": "code",
   "execution_count": 2,
   "metadata": {},
   "outputs": [],
   "source": [
    "import configparser\n",
    "import sqlalchemy\n",
    "import sqlalchemy_utils"
   ]
  },
  {
   "cell_type": "markdown",
   "metadata": {},
   "source": [
    "#### Define a function for parsing database connection parameters from a configuration file."
   ]
  },
  {
   "cell_type": "code",
   "execution_count": 3,
   "metadata": {},
   "outputs": [],
   "source": [
    "def _database_config(config_file, section='postgresql'):\n",
    "\n",
    "    # create a parser\n",
    "    config_parser = configparser.ConfigParser()\n",
    "\n",
    "    # read configuration file\n",
    "    config_parser.read(config_file)\n",
    "\n",
    "    # get section, default to postgresql\n",
    "    db_config = {}\n",
    "    if config_parser.has_section(section):\n",
    "        params = config_parser.items(section)\n",
    "        for param in params:\n",
    "            db_config[param[0]] = param[1]\n",
    "    else:\n",
    "        raise Exception(f'Section {section} not found in the {config_file} file')\n",
    "\n",
    "    return db_config"
   ]
  },
  {
   "cell_type": "markdown",
   "metadata": {},
   "source": [
    "#### Read database connection parameters and use these to configure an SQLAlchemy Engine instance."
   ]
  },
  {
   "cell_type": "code",
   "execution_count": 4,
   "metadata": {},
   "outputs": [],
   "source": [
    "params = _database_config(\"C:/home/data/pullpoint/database.ini\")\n",
    "db_connection_details = f\"postgresql+psycopg2://{params['user']}:{params['password']}@{params['host']}/{params['database']}\"\n",
    "engine = sqlalchemy.create_engine(db_connection_details, echo=True)"
   ]
  },
  {
   "cell_type": "markdown",
   "metadata": {},
   "source": [
    "#### Create an instance of the declarative base class and define an associated mapped class for notifications."
   ]
  },
  {
   "cell_type": "code",
   "execution_count": 5,
   "metadata": {},
   "outputs": [],
   "source": [
    "Base = sqlalchemy.ext.declarative.declarative_base()\n",
    "\n",
    "class Notification(Base):\n",
    "    \n",
    "    __tablename__ = 'notifications'\n",
    "    \n",
    "    # object attributes (columns in each row)\n",
    "    notification_id = sqlalchemy.Column(sqlalchemy.Integer, primary_key=True, autoincrement=True)\n",
    "    ip_address = sqlalchemy.Column(sqlalchemy_utils.IPAddressType)\n",
    "    message = sqlalchemy.Column(sqlalchemy.Unicode(255))\n",
    "    \n",
    "    # simple representation\n",
    "    def __repr__(self):\n",
    "        return f\"<Notification(notification_id={self.notification_id}, ip_address={self.ip_address}, message={self.message})>\""
   ]
  },
  {
   "cell_type": "markdown",
   "metadata": {},
   "source": [
    "#### MetaData and Table objects\n",
    "The Notifications class we've declared defines metadata information about a corresponding table in our database. We now have a `Table` object (for our `notifications` table) which is part of a `MetaData` registry. The `MetaData` object is available from our declarative base object as an attribute, `.metadata`, and it includes the ability to emit a limited set of schema generation commands to the database. The `notifications` table can now be created by calling the `MetaData.create_all()` method, passing in our `Engine` instance as a source of database connectivity."
   ]
  },
  {
   "cell_type": "code",
   "execution_count": 6,
   "metadata": {},
   "outputs": [
    {
     "name": "stdout",
     "output_type": "stream",
     "text": [
      "2019-02-11 16:49:52,595 INFO sqlalchemy.engine.base.Engine select version()\n",
      "2019-02-11 16:49:52,597 INFO sqlalchemy.engine.base.Engine {}\n",
      "2019-02-11 16:49:52,683 INFO sqlalchemy.engine.base.Engine select current_schema()\n",
      "2019-02-11 16:49:52,684 INFO sqlalchemy.engine.base.Engine {}\n",
      "2019-02-11 16:49:52,770 INFO sqlalchemy.engine.base.Engine SELECT CAST('test plain returns' AS VARCHAR(60)) AS anon_1\n",
      "2019-02-11 16:49:52,771 INFO sqlalchemy.engine.base.Engine {}\n",
      "2019-02-11 16:49:52,833 INFO sqlalchemy.engine.base.Engine SELECT CAST('test unicode returns' AS VARCHAR(60)) AS anon_1\n",
      "2019-02-11 16:49:52,833 INFO sqlalchemy.engine.base.Engine {}\n",
      "2019-02-11 16:49:52,927 INFO sqlalchemy.engine.base.Engine show standard_conforming_strings\n",
      "2019-02-11 16:49:52,928 INFO sqlalchemy.engine.base.Engine {}\n",
      "2019-02-11 16:49:53,017 INFO sqlalchemy.engine.base.Engine select relname from pg_class c join pg_namespace n on n.oid=c.relnamespace where pg_catalog.pg_table_is_visible(c.oid) and relname=%(name)s\n",
      "2019-02-11 16:49:53,018 INFO sqlalchemy.engine.base.Engine {'name': 'notifications'}\n",
      "2019-02-11 16:49:53,073 INFO sqlalchemy.engine.base.Engine \n",
      "CREATE TABLE notifications (\n",
      "\tnotification_id SERIAL NOT NULL, \n",
      "\tip_address VARCHAR(50), \n",
      "\tmessage VARCHAR(255), \n",
      "\tPRIMARY KEY (notification_id)\n",
      ")\n",
      "\n",
      "\n",
      "2019-02-11 16:49:53,074 INFO sqlalchemy.engine.base.Engine {}\n",
      "2019-02-11 16:49:53,135 INFO sqlalchemy.engine.base.Engine COMMIT\n"
     ]
    }
   ],
   "source": [
    "Base.metadata.create_all(engine)"
   ]
  },
  {
   "cell_type": "code",
   "execution_count": null,
   "metadata": {},
   "outputs": [],
   "source": []
  }
 ],
 "metadata": {
  "kernelspec": {
   "display_name": "Python 3",
   "language": "python",
   "name": "python3"
  },
  "language_info": {
   "codemirror_mode": {
    "name": "ipython",
    "version": 3
   },
   "file_extension": ".py",
   "mimetype": "text/x-python",
   "name": "python",
   "nbconvert_exporter": "python",
   "pygments_lexer": "ipython3",
   "version": "3.6.8"
  }
 },
 "nbformat": 4,
 "nbformat_minor": 2
}
