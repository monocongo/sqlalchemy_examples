{
 "cells": [
  {
   "cell_type": "markdown",
   "metadata": {},
   "source": [
    "# SQLAlchemy Example\n",
    "An example of object-relational mapping (ORM) using SQLAlchemy."
   ]
  },
  {
   "cell_type": "markdown",
   "metadata": {},
   "source": [
    "#### Import packages and modules used in subsequent cells."
   ]
  },
  {
   "cell_type": "code",
   "execution_count": 1,
   "metadata": {},
   "outputs": [],
   "source": [
    "import configparser\n",
    "import sqlalchemy\n",
    "import sqlalchemy_utils"
   ]
  },
  {
   "cell_type": "markdown",
   "metadata": {},
   "source": [
    "#### Define a function for parsing database connection parameters from a configuration file."
   ]
  },
  {
   "cell_type": "code",
   "execution_count": 2,
   "metadata": {},
   "outputs": [],
   "source": [
    "def _database_config(config_file, section='postgresql'):\n",
    "\n",
    "    # create a parser\n",
    "    config_parser = configparser.ConfigParser()\n",
    "\n",
    "    # read configuration file\n",
    "    config_parser.read(config_file)\n",
    "\n",
    "    # get section, default to postgresql\n",
    "    db_config = {}\n",
    "    if config_parser.has_section(section):\n",
    "        params = config_parser.items(section)\n",
    "        for param in params:\n",
    "            db_config[param[0]] = param[1]\n",
    "    else:\n",
    "        raise Exception(f'Section {section} not found in the {config_file} file')\n",
    "\n",
    "    return db_config"
   ]
  },
  {
   "cell_type": "markdown",
   "metadata": {},
   "source": [
    "#### Read database connection parameters and use these to configure an SQLAlchemy Engine instance."
   ]
  },
  {
   "cell_type": "code",
   "execution_count": 3,
   "metadata": {},
   "outputs": [],
   "source": [
    "params = _database_config(\"C:/home/data/pullpoint/database.ini\")\n",
    "db_connection_details = f\"postgresql+psycopg2://{params['user']}:{params['password']}@{params['host']}/{params['database']}\"\n",
    "engine = sqlalchemy.create_engine(db_connection_details, echo=True)"
   ]
  },
  {
   "cell_type": "markdown",
   "metadata": {},
   "source": [
    "#### Create an instance of the declarative base class and define as associated mapped class for notifications."
   ]
  },
  {
   "cell_type": "code",
   "execution_count": 4,
   "metadata": {},
   "outputs": [],
   "source": [
    "Base = sqlalchemy.ext.declarative.declarative_base()\n",
    "\n",
    "class Notification(Base):\n",
    "    \n",
    "    __tablename__ = 'notifications'\n",
    "    \n",
    "    # object attributes (columns in each row)\n",
    "    notification_id = sqlalchemy.Column(sqlalchemy.Integer, primary_key=True, autoincrement=True)\n",
    "    ip_address = sqlalchemy.Column(sqlalchemy_utils.IPAddressType)\n",
    "    message = sqlalchemy.Column(sqlalchemy.Unicode(255))\n",
    "    \n",
    "    # simple representation\n",
    "    def __repr__(self):\n",
    "        return f\"<Notification(notification_id={self.notification_id}, ip_address={self.ip_address}, message={self.message})>\""
   ]
  },
  {
   "cell_type": "code",
   "execution_count": null,
   "metadata": {},
   "outputs": [],
   "source": []
  },
  {
   "cell_type": "code",
   "execution_count": null,
   "metadata": {},
   "outputs": [],
   "source": []
  }
 ],
 "metadata": {
  "kernelspec": {
   "display_name": "Python 3",
   "language": "python",
   "name": "python3"
  },
  "language_info": {
   "codemirror_mode": {
    "name": "ipython",
    "version": 3
   },
   "file_extension": ".py",
   "mimetype": "text/x-python",
   "name": "python",
   "nbconvert_exporter": "python",
   "pygments_lexer": "ipython3",
   "version": "3.6.8"
  }
 },
 "nbformat": 4,
 "nbformat_minor": 2
}
