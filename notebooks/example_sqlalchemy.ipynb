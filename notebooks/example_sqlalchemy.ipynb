{
 "cells": [
  {
   "cell_type": "markdown",
   "metadata": {},
   "source": [
    "# SQLAlchemy Example\n",
    "An example of object-relational mapping (ORM) using SQLAlchemy."
   ]
  },
  {
   "cell_type": "markdown",
   "metadata": {},
   "source": [
    "#### Import packages and modules used in subsequent cells."
   ]
  },
  {
   "cell_type": "code",
   "execution_count": 2,
   "metadata": {},
   "outputs": [],
   "source": [
    "import configparser\n",
    "import sqlalchemy\n",
    "import sqlalchemy_utils"
   ]
  },
  {
   "cell_type": "markdown",
   "metadata": {},
   "source": [
    "#### Define a function for parsing database connection parameters from a configuration file."
   ]
  },
  {
   "cell_type": "code",
   "execution_count": 3,
   "metadata": {},
   "outputs": [],
   "source": [
    "def _database_config(config_file, section='postgresql'):\n",
    "\n",
    "    # create a parser\n",
    "    config_parser = configparser.ConfigParser()\n",
    "\n",
    "    # read configuration file\n",
    "    config_parser.read(config_file)\n",
    "\n",
    "    # get section, default to postgresql\n",
    "    db_config = {}\n",
    "    if config_parser.has_section(section):\n",
    "        params = config_parser.items(section)\n",
    "        for param in params:\n",
    "            db_config[param[0]] = param[1]\n",
    "    else:\n",
    "        raise Exception(f'Section {section} not found in the {config_file} file')\n",
    "\n",
    "    return db_config"
   ]
  },
  {
   "cell_type": "markdown",
   "metadata": {},
   "source": [
    "#### Read database connection parameters and use these to configure an SQLAlchemy Engine instance."
   ]
  },
  {
   "cell_type": "code",
   "execution_count": 4,
   "metadata": {},
   "outputs": [],
   "source": [
    "params = _database_config(\"C:/home/data/pullpoint/database.ini\")\n",
    "db_connection_details = f\"postgresql+psycopg2://{params['user']}:{params['password']}@{params['host']}/{params['database']}\"\n",
    "engine = sqlalchemy.create_engine(db_connection_details, echo=True)"
   ]
  },
  {
   "cell_type": "markdown",
   "metadata": {},
   "source": [
    "#### Create an instance of the declarative base class and define an associated mapped class for notifications."
   ]
  },
  {
   "cell_type": "code",
   "execution_count": 5,
   "metadata": {},
   "outputs": [],
   "source": [
    "Base = sqlalchemy.ext.declarative.declarative_base()\n",
    "\n",
    "class Notification(Base):\n",
    "    \n",
    "    __tablename__ = 'notifications'\n",
    "    \n",
    "    # object attributes (columns in each row)\n",
    "    notification_id = sqlalchemy.Column(sqlalchemy.Integer, primary_key=True, autoincrement=True)\n",
    "    ip_address = sqlalchemy.Column(sqlalchemy_utils.IPAddressType)\n",
    "    message = sqlalchemy.Column(sqlalchemy.Unicode(255))\n",
    "    \n",
    "    # simple representation\n",
    "    def __repr__(self):\n",
    "        return f\"<Notification(notification_id={self.notification_id}, ip_address={self.ip_address}, message={self.message})>\""
   ]
  },
  {
   "cell_type": "markdown",
   "metadata": {},
   "source": [
    "#### MetaData and Table objects\n",
    "The Notifications class we've declared defines metadata information about a corresponding table in our database. We now have a `Table` object (for our `notifications` table) which is part of a `MetaData` registry. The MetaData object is available from our declarative base object as an attribute, `.metadata`, and it includes the ability to emit a limited set of schema generation commands to the database. The `notifications` table can now be created by calling the MetaData.create_all() method, passing in our `Engine` instance as a source of database connectivity."
   ]
  },
  {
   "cell_type": "code",
   "execution_count": 6,
   "metadata": {},
   "outputs": [
    {
     "name": "stdout",
     "output_type": "stream",
     "text": [
      "2019-02-11 16:49:52,595 INFO sqlalchemy.engine.base.Engine select version()\n",
      "2019-02-11 16:49:52,597 INFO sqlalchemy.engine.base.Engine {}\n",
      "2019-02-11 16:49:52,683 INFO sqlalchemy.engine.base.Engine select current_schema()\n",
      "2019-02-11 16:49:52,684 INFO sqlalchemy.engine.base.Engine {}\n",
      "2019-02-11 16:49:52,770 INFO sqlalchemy.engine.base.Engine SELECT CAST('test plain returns' AS VARCHAR(60)) AS anon_1\n",
      "2019-02-11 16:49:52,771 INFO sqlalchemy.engine.base.Engine {}\n",
      "2019-02-11 16:49:52,833 INFO sqlalchemy.engine.base.Engine SELECT CAST('test unicode returns' AS VARCHAR(60)) AS anon_1\n",
      "2019-02-11 16:49:52,833 INFO sqlalchemy.engine.base.Engine {}\n",
      "2019-02-11 16:49:52,927 INFO sqlalchemy.engine.base.Engine show standard_conforming_strings\n",
      "2019-02-11 16:49:52,928 INFO sqlalchemy.engine.base.Engine {}\n",
      "2019-02-11 16:49:53,017 INFO sqlalchemy.engine.base.Engine select relname from pg_class c join pg_namespace n on n.oid=c.relnamespace where pg_catalog.pg_table_is_visible(c.oid) and relname=%(name)s\n",
      "2019-02-11 16:49:53,018 INFO sqlalchemy.engine.base.Engine {'name': 'notifications'}\n",
      "2019-02-11 16:49:53,073 INFO sqlalchemy.engine.base.Engine \n",
      "CREATE TABLE notifications (\n",
      "\tnotification_id SERIAL NOT NULL, \n",
      "\tip_address VARCHAR(50), \n",
      "\tmessage VARCHAR(255), \n",
      "\tPRIMARY KEY (notification_id)\n",
      ")\n",
      "\n",
      "\n",
      "2019-02-11 16:49:53,074 INFO sqlalchemy.engine.base.Engine {}\n",
      "2019-02-11 16:49:53,135 INFO sqlalchemy.engine.base.Engine COMMIT\n"
     ]
    }
   ],
   "source": [
    "Base.metadata.create_all(engine)"
   ]
  },
  {
   "cell_type": "markdown",
   "metadata": {},
   "source": [
    "#### Create an instance of the mapped class and insert a corresponding record into the corresponding database table\n",
    "We will create a `Session` class that will be bound to the database via the `Engine` instance, and we'll use an instance of this `Session` class to access the database via connections from a pool maintained by the associated `Engine`."
   ]
  },
  {
   "cell_type": "code",
   "execution_count": 7,
   "metadata": {},
   "outputs": [],
   "source": [
    "initial_notification = Notification(ip_address=\"12.34.56.78\", message=\"First notification message.\")\n",
    "second_notification = Notification(ip_address=\"12.34.56.79\", message=\"Second notification message.\")\n",
    "\n",
    "Session = sqlalchemy.orm.sessionmaker(bind=engine)\n",
    "session = Session()\n",
    "\n",
    "session.add(initial_notification)\n",
    "session.add(second_notification)"
   ]
  },
  {
   "cell_type": "markdown",
   "metadata": {},
   "source": [
    "At this point the notification object hasn't been saved as a row in the database table, since the instance is **pending**, i.e. the SQL to persist the notification object won't be issued until it is needed, using a process known as a **flush**. For example, if we perform a lookup of the notification via a query then the `Session` will first flush all pending information before issuing the query SQL.\n",
    "\n",
    "Below we'll query for all `Notification` objects (i.e. rows in the `notifications` table) filtered by the IP address attribute we've used for the initial notification, \"12.34.56.78\", and get the first one found in the list (and in this case there should be only one). This will trigger the flushing of the pending insertions from the above `Session.add()` calls, which will happen before the SQL for the query is issued."
   ]
  },
  {
   "cell_type": "code",
   "execution_count": 8,
   "metadata": {},
   "outputs": [
    {
     "name": "stdout",
     "output_type": "stream",
     "text": [
      "2019-02-11 17:22:07,487 INFO sqlalchemy.engine.base.Engine BEGIN (implicit)\n",
      "2019-02-11 17:22:07,488 INFO sqlalchemy.engine.base.Engine INSERT INTO notifications (ip_address, message) VALUES (%(ip_address)s, %(message)s) RETURNING notifications.notification_id\n",
      "2019-02-11 17:22:07,488 INFO sqlalchemy.engine.base.Engine {'ip_address': '12.34.56.78', 'message': 'This is a notification message.'}\n",
      "2019-02-11 17:22:07,652 INFO sqlalchemy.engine.base.Engine SELECT notifications.notification_id AS notifications_notification_id, notifications.ip_address AS notifications_ip_address, notifications.message AS notifications_message \n",
      "FROM notifications \n",
      "WHERE notifications.ip_address = %(ip_address_1)s \n",
      " LIMIT %(param_1)s\n",
      "2019-02-11 17:22:07,653 INFO sqlalchemy.engine.base.Engine {'ip_address_1': '12.34.56.78', 'param_1': 1}\n"
     ]
    },
    {
     "data": {
      "text/plain": [
       "<Notification(notification_id=1, ip_address=12.34.56.78, message=This is a notification message.)>"
      ]
     },
     "execution_count": 8,
     "metadata": {},
     "output_type": "execute_result"
    }
   ],
   "source": [
    "notification = session.query(Notification).filter_by(ip_address=\"12.34.56.78\").first()\n",
    "notification"
   ]
  },
  {
   "cell_type": "code",
   "execution_count": null,
   "metadata": {},
   "outputs": [],
   "source": []
  }
 ],
 "metadata": {
  "kernelspec": {
   "display_name": "Python 3",
   "language": "python",
   "name": "python3"
  },
  "language_info": {
   "codemirror_mode": {
    "name": "ipython",
    "version": 3
   },
   "file_extension": ".py",
   "mimetype": "text/x-python",
   "name": "python",
   "nbconvert_exporter": "python",
   "pygments_lexer": "ipython3",
   "version": "3.6.8"
  }
 },
 "nbformat": 4,
 "nbformat_minor": 2
}
